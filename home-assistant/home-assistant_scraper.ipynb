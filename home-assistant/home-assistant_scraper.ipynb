{
 "cells": [
  {
   "cell_type": "code",
   "execution_count": null,
   "id": "b82074c6",
   "metadata": {},
   "outputs": [],
   "source": [
    "'''\n",
    "This code:\n",
    "1. Searches for app packages by searching on google play store\n",
    "2. Search for open source links on F-droid based on the app-package name\n",
    "'''"
   ]
  },
  {
   "cell_type": "code",
   "execution_count": 1,
   "id": "bf55a850",
   "metadata": {},
   "outputs": [],
   "source": [
    "# !pip install google-play-scraper\n",
    "# !pip install beautifulsoup4\n"
   ]
  },
  {
   "cell_type": "code",
   "execution_count": 6,
   "id": "c49e5d67",
   "metadata": {},
   "outputs": [],
   "source": [
    "from google_play_scraper import app\n",
    "from bs4 import BeautifulSoup\n",
    "import requests\n",
    "from tqdm import tqdm\n",
    "import pandas as pd"
   ]
  },
  {
   "cell_type": "code",
   "execution_count": 7,
   "id": "ece5bfb5",
   "metadata": {},
   "outputs": [],
   "source": [
    "def getHtmlContent(url):\n",
    "    response=requests.get(url)\n",
    "    htmlContent=BeautifulSoup(response.content,\"html.parser\")\n",
    "    return htmlContent"
   ]
  },
  {
   "cell_type": "code",
   "execution_count": 4,
   "id": "686a682a",
   "metadata": {},
   "outputs": [
    {
     "name": "stderr",
     "output_type": "stream",
     "text": [
      "100%|██████████████████████████████████████████████████████████████████████████████████████| 1303/1303 [00:00<?, ?it/s]\n"
     ]
    }
   ],
   "source": [
    "#Get all apps from home assistant site\n",
    "htmlContent = getHtmlContent(\"https://www.home-assistant.io/integrations/#all\")\n",
    "links = htmlContent.find_all(\"a\")\n",
    "ha_apps = []\n",
    "for link in tqdm(links):\n",
    "    href = str(link.get(\"href\"))\n",
    "    if \"integrations\" in href:\n",
    "        if len(href.split(\"/\"))>3:\n",
    "            ha_apps.append(href.split(\"/\")[-2])"
   ]
  },
  {
   "cell_type": "code",
   "execution_count": 5,
   "id": "a9d4f397",
   "metadata": {},
   "outputs": [
    {
     "name": "stderr",
     "output_type": "stream",
     "text": [
      "100%|██████████████████████████████████████████████████████████████████████████████| 1207/1207 [10:38<00:00,  1.89it/s]\n"
     ]
    }
   ],
   "source": [
    "#Search with the app title, look for install button, if exists then grab the package name\n",
    "#Create a dataframe consisting app title and package name\n",
    "appPackageDF=pd.DataFrame([],columns=[\"App Title\",\"Package\"])\n",
    "for app in tqdm(ha_apps):\n",
    "    #print(app,end=\" ==> \")\n",
    "    searchURL=\"https://play.google.com/store/search?q=\"+app+\"&c=apps\"\n",
    "    #print(searchURL)\n",
    "    htmlContent = getHtmlContent(searchURL)\n",
    "    #Looking for the install button, it is under itemprop=\"offers\"\n",
    "    allOffers = htmlContent.findAll(\"span\",{\"itemprop\":\"offers\"})\n",
    "    try:\n",
    "        installComp=BeautifulSoup(allOffers[0].encode('utf-8'), \"html.parser\")\n",
    "        meta=installComp.find(\"meta\")\n",
    "        package=meta[\"content\"].split(\"=\")[-2].split(\"&\")[0]\n",
    "        appPackageDF.loc[len(appPackageDF)]=[app,package]\n",
    "        #print(package)\n",
    "    except:\n",
    "        #print(\"Error finding package for\"+app)\n",
    "        pass\n",
    "appPackageDF.to_csv(\"scrapedPackages.csv\")"
   ]
  },
  {
   "cell_type": "code",
   "execution_count": 6,
   "id": "5ed91b50",
   "metadata": {},
   "outputs": [
    {
     "name": "stderr",
     "output_type": "stream",
     "text": [
      "100%|████████████████████████████████████████████████████████████████████████████████| 274/274 [01:55<00:00,  2.38it/s]\n"
     ]
    }
   ],
   "source": [
    "#Search package name on F-droid, if exists then grab the source code url\n",
    "#Create a dataframe consisting app title, package name and source code url\n",
    "appURL=pd.DataFrame([],columns=[\"App Title\",\"Package\",\"Source code URL\"])\n",
    "for appPackage in tqdm(appPackageDF[\"Package\"].tolist()):\n",
    "    appTitle=appPackageDF[\"App Title\"][appPackageDF[\"Package\"]==appPackage].tolist()[0]\n",
    "    fdroidURL=\"https://f-droid.org/en/packages/\"+appPackage\n",
    "    htmlContent = getHtmlContent(fdroidURL)\n",
    "    try:\n",
    "        links = htmlContent.find_all('a', string='Source Code')\n",
    "        href=links[0].get(\"href\")\n",
    "        appURL.loc[len(appURL)]=[appTitle,appPackage,href]\n",
    "    except:\n",
    "        pass\n",
    "appURL.to_csv(\"scrapedPackages_SourceURL.csv\")"
   ]
  },
  {
   "cell_type": "code",
   "execution_count": 7,
   "id": "7251abea",
   "metadata": {},
   "outputs": [
    {
     "data": {
      "text/plain": [
       "14"
      ]
     },
     "execution_count": 7,
     "metadata": {},
     "output_type": "execute_result"
    }
   ],
   "source": [
    "len(appURL)"
   ]
  },
  {
   "cell_type": "code",
   "execution_count": 40,
   "id": "c1e53926",
   "metadata": {},
   "outputs": [
    {
     "name": "stdout",
     "output_type": "stream",
     "text": [
      "/login?return_to=https%3A%2F%2Fgithub.com%2Fhome-assistant%2Fcore%2Ftree%2Fdev%2Fhomeassistant%2Fcomponents%2Fmqtt_statestream\n",
      "https://github.com/home-assistant/core/tree/{{ urlEncodedRefName }}/homeassistant/components/mqtt_statestream\n",
      "https://github.com/home-assistant/core/tree/{{ urlEncodedRefName }}/homeassistant/components/mqtt_statestream\n",
      "/home-assistant/core/commits/dev/homeassistant/components/mqtt_statestream\n",
      "/home-assistant/core/tree/ea0e1c54d6eca0ffaf65e970cff3298d1b30e1c7/homeassistant/components/mqtt_statestream\n",
      "/login?return_to=https%3A%2F%2Fgithub.com%2Fhome-assistant%2Fcore%2Ftree%2Fdev%2Fhomeassistant%2Fcomponents%2Fspeedtestdotnet\n",
      "https://github.com/home-assistant/core/tree/{{ urlEncodedRefName }}/homeassistant/components/speedtestdotnet\n",
      "https://github.com/home-assistant/core/tree/{{ urlEncodedRefName }}/homeassistant/components/speedtestdotnet\n",
      "/home-assistant/core/commits/dev/homeassistant/components/speedtestdotnet\n",
      "/home-assistant/core/tree/ea0e1c54d6eca0ffaf65e970cff3298d1b30e1c7/homeassistant/components/speedtestdotnet\n",
      "/home-assistant/core/blob/dev/tests/components/zwave_js/conftest.py\n",
      "/home-assistant/core/blob/dev/tests/components/zwave_js/test_discovery.py\n"
     ]
    }
   ],
   "source": [
    "# #Get all apps from home assistant site\n",
    "# home=\"https://www.home-assistant.io\"\n",
    "# htmlContent = getHtmlContent(\"https://www.home-assistant.io/integrations/#all\")\n",
    "# links = htmlContent.find_all(\"a\")\n",
    "\n",
    "# for link in links:\n",
    "#     href = str(link.get(\"href\"))\n",
    "#     if \"integrations\" in href:\n",
    "#         if len(href.split(\"/\"))>3:\n",
    "#             appHtml=getHtmlContent(home+href)\n",
    "#             tags= appHtml.find_all(\"a\")\n",
    "#             for tag in tags:\n",
    "#                 text=tag.get_text()\n",
    "#                 lookFor=\"on GitHub\"\n",
    "#                 if lookFor in text:\n",
    "#                     integCode=tag.get(\"href\")\n",
    "#                     gitSourceHTML=getHtmlContent(integCode)\n",
    "#                     gitSourceLinks=gitSourceHTML.find_all(\"a\")\n",
    "#                     for gsl in gitSourceLinks:\n",
    "#                         try:\n",
    "#                             if \"test\" in gsl.get(\"href\").split(\"/\")[-1].lower():\n",
    "#                                 print(gsl.get(\"href\"))\n",
    "                                \n",
    "#                         except:\n",
    "#                             pass\n",
    "                \n",
    "                    \n",
    "                \n",
    "           \n",
    "                "
   ]
  },
  {
   "cell_type": "code",
   "execution_count": null,
   "id": "f819954c",
   "metadata": {},
   "outputs": [],
   "source": []
  }
 ],
 "metadata": {
  "kernelspec": {
   "display_name": "Python 3 (ipykernel)",
   "language": "python",
   "name": "python3"
  },
  "language_info": {
   "codemirror_mode": {
    "name": "ipython",
    "version": 3
   },
   "file_extension": ".py",
   "mimetype": "text/x-python",
   "name": "python",
   "nbconvert_exporter": "python",
   "pygments_lexer": "ipython3",
   "version": "3.11.3"
  }
 },
 "nbformat": 4,
 "nbformat_minor": 5
}
