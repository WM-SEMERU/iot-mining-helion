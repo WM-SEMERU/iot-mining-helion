{
 "cells": [
  {
   "cell_type": "code",
   "execution_count": null,
   "id": "56f93eab",
   "metadata": {},
   "outputs": [],
   "source": [
    "'''\n",
    "Analyzing imports for app-integration and their test code\n",
    "'''"
   ]
  },
  {
   "cell_type": "code",
   "execution_count": 1,
   "id": "7876e027-4868-403f-9549-11934343f919",
   "metadata": {},
   "outputs": [],
   "source": [
    "import os\n",
    "from os.path import join as pjoin\n",
    "import ast\n",
    "import pandas as pd"
   ]
  },
  {
   "cell_type": "code",
   "execution_count": 2,
   "id": "8a76051a-682f-429f-a972-4b0fe1f5caa6",
   "metadata": {},
   "outputs": [],
   "source": [
    "from google_play_scraper import app\n",
    "from bs4 import BeautifulSoup\n",
    "import requests\n",
    "from tqdm import tqdm\n",
    "import pandas as pd"
   ]
  },
  {
   "cell_type": "code",
   "execution_count": 3,
   "id": "53847177-755d-443f-b46c-4afcae96be15",
   "metadata": {},
   "outputs": [],
   "source": [
    "def getHtmlContent(url):\n",
    "    response=requests.get(url)\n",
    "    htmlContent=BeautifulSoup(response.content,\"html.parser\")\n",
    "    return htmlContent"
   ]
  },
  {
   "cell_type": "code",
   "execution_count": 4,
   "id": "4d1cc4ed-693e-495e-8fdd-0d7e176c0b3e",
   "metadata": {},
   "outputs": [],
   "source": [
    "def count_methods_classes_lines(file_path):\n",
    "    with open(file_path, 'r') as file:\n",
    "        code = file.read()\n",
    "\n",
    "    tree = ast.parse(code)\n",
    "\n",
    "    # Initialize counters\n",
    "    num_methods = 0\n",
    "    num_classes = 0\n",
    "    num_lines = len(code.splitlines())\n",
    "\n",
    "    for node in ast.walk(tree):\n",
    "        if isinstance(node, ast.FunctionDef):\n",
    "            num_methods += 1\n",
    "        elif isinstance(node, ast.ClassDef):\n",
    "            num_classes += 1\n",
    "\n",
    "    return num_methods, num_classes, num_lines"
   ]
  },
  {
   "cell_type": "code",
   "execution_count": 5,
   "id": "c55ee813-f4b3-4c21-9a35-e71803b2b3bb",
   "metadata": {},
   "outputs": [],
   "source": [
    "# def count_methods_classes_lines(file_path):\n",
    "#     with open(file_path, 'r', encoding='utf-8') as file:\n",
    "#         source_code = file.read()\n",
    "\n",
    "#     tree = ast.parse(source_code)\n",
    "\n",
    "#     class_count = 0\n",
    "#     method_count = 0\n",
    "#     line_count = len(source_code.splitlines())\n",
    "#     async_method_count = 0\n",
    "\n",
    "#     for node in ast.walk(tree):\n",
    "#         if isinstance(node, ast.ClassDef):\n",
    "#             class_count += 1\n",
    "\n",
    "#         if isinstance(node, ast.FunctionDef):\n",
    "#             method_count += 1\n",
    "#             if any(isinstance(decorator, ast.Name) and decorator.id == 'async' for decorator in node.decorator_list):\n",
    "#                 async_method_count += 1\n",
    "\n",
    "#     return class_count, method_count, line_count, async_method_count"
   ]
  },
  {
   "cell_type": "code",
   "execution_count": 6,
   "id": "b3e7a08d-1292-4256-a30f-2b3e4084b3eb",
   "metadata": {},
   "outputs": [],
   "source": [
    "def countDict(input_list):\n",
    "    from collections import defaultdict   \n",
    "    # Create a defaultdict to count occurrences of each element\n",
    "    count_dict = defaultdict(int)\n",
    "    \n",
    "    # Count occurrences of each element in the list\n",
    "    for item in input_list:\n",
    "        count_dict[item] += 1\n",
    "    \n",
    "    # Convert defaultdict to a regular dictionary\n",
    "    result_dict = dict(count_dict)\n",
    "    sorted_dict = {k: v for k, v in sorted(result_dict.items(), key=lambda item: item[1],reverse=True)}\n",
    "\n",
    "    return sorted_dict"
   ]
  },
  {
   "cell_type": "code",
   "execution_count": 7,
   "id": "ae4d076b-5b95-4c1c-a43e-179583e53a41",
   "metadata": {},
   "outputs": [],
   "source": [
    "components_dir=\"/home/safwat/Documents/IoT_Testing/integration_samples/core/homeassistant/components\"\n",
    "test_components_dir=\"/home/safwat/Documents/IoT_Testing/integration_samples/core/tests/components\"\n",
    "\n",
    "apps=[app for app in os.listdir(components_dir) if \".\" not in app]\n",
    "test_apps=[app for app in os.listdir(test_components_dir) if \".\" not in app]"
   ]
  },
  {
   "cell_type": "code",
   "execution_count": 8,
   "id": "f14c07af-da4f-4e21-bf54-dead4c69173f",
   "metadata": {},
   "outputs": [],
   "source": [
    "# apps=[app for app in os.listdir(components_dir) if \".\" not in app]\n",
    "# df=pd.DataFrame([],columns=[\"app\",\"categories\",\"num of files\",\"file dist\",\"python %\",\"highest classes in a file\",\"highest methods in a file\",\\\n",
    "#                            \"highest lines in a file\",\"avg classes\",\"avg methods\",\"avg lines\"])\n",
    "# for app in tqdm(apps):\n",
    "#     hiClasses, hiMethods, hiLines = 0,0,0\n",
    "#     totalClasses, totalMethods, totalLines = 0,0,0\n",
    "    \n",
    "#     files=[os.path.relpath(os.path.join(root, file), pjoin(components_dir,app)) \\\n",
    "#            for root, _, files in os.walk(pjoin(components_dir,app)) for file in files]\n",
    "#     extensions=[file.split(\".\")[-1] for file in files]\n",
    "#     ext_count=countDict(extensions)\n",
    "    \n",
    "#     pyFiles=[file for file in files if file.endswith(\".py\")]\n",
    "#     pyPerc=round(len(pyFiles)/len(files)*100,1)\n",
    "#     soup = getHtmlContent(f\"https://www.home-assistant.io/integrations/{app}\")\n",
    "#     for lab in soup.select(\"h1\"):\n",
    "#         if(lab.text==\"Categories\"):\n",
    "#             cat=lab.find_next().text\n",
    "#     categories=[c for c in cat.split(\"\\n\") if len(c)>0]\n",
    "    \n",
    "#     for pyFile in pyFiles:\n",
    "#         class_count, method_count, num_lines = count_methods_classes_lines(pjoin(components_dir,app,pyFile))\n",
    "#         totalClasses+=class_count\n",
    "#         totalMethods+=method_count\n",
    "#         totalLines+=num_lines\n",
    "        \n",
    "#         if class_count>hiClasses: hiClasses=class_count\n",
    "#         if method_count>hiMethods: hiMethods=method_count\n",
    "#         if num_lines>hiLines: hiLines=num_lines\n",
    "#     if len(pyFiles)>0:\n",
    "#         denom=len(pyFiles)\n",
    "#     else:\n",
    "#         denom=1\n",
    "#     avgClasses=round(totalClasses/denom)\n",
    "#     avgMethods=round(totalMethods/denom)\n",
    "#     avgLines=round(totalLines/denom)\n",
    "#     df.loc[len(df)]=[app,categories,len(files),ext_count,pyPerc,hiClasses,hiMethods,hiLines,avgClasses,avgMethods,avgLines]"
   ]
  },
  {
   "cell_type": "code",
   "execution_count": 9,
   "id": "aaf6e956-a43b-4876-a65b-30bbf291e640",
   "metadata": {
    "scrolled": true
   },
   "outputs": [],
   "source": [
    "# df.head(10)"
   ]
  },
  {
   "cell_type": "code",
   "execution_count": 9,
   "id": "d3b1f1f8-580c-41b3-bdfb-534030088b5c",
   "metadata": {},
   "outputs": [],
   "source": [
    "# df.to_csv(\"integration_test_codes_analysis.csv\")"
   ]
  },
  {
   "cell_type": "code",
   "execution_count": 27,
   "id": "55a0f3d6-4d30-435a-8484-d50e5f44f5cb",
   "metadata": {},
   "outputs": [],
   "source": [
    "def testCodeAnalysis(codeFolder, testFolder):\n",
    "    codeFiles=[]\n",
    "    for root,dir,files in os.walk(codeFolder):\n",
    "        for file in files:\n",
    "            if file.endswith(\".py\"):\n",
    "                codeFiles.append((root,file))\n",
    "    testCodeFiles=[]\n",
    "    for root,dir,files in os.walk(testFolder):\n",
    "        for file in files:\n",
    "            if file.endswith(\".py\"):\n",
    "                testCodeFiles.append((root,file))\n",
    "\n",
    "    matchedTests=[]\n",
    "    for cRoot,cfile in codeFiles:\n",
    "        for tRoot, tfile in testCodeFiles:\n",
    "            if cfile in tfile and \"test\" in tfile:\n",
    "                matchedTests.append((pjoin(cRoot,cfile),pjoin(tRoot,tfile)))\n",
    "                break\n",
    "            \n",
    "    return matchedTests,codeFiles, testCodeFiles"
   ]
  },
  {
   "cell_type": "code",
   "execution_count": 28,
   "id": "4d641327-ee5e-45cf-8089-127f65a252f9",
   "metadata": {},
   "outputs": [],
   "source": [
    "import ast\n",
    "from collections import namedtuple\n",
    "\n",
    "Import = namedtuple(\"Import\", [\"module\", \"name\", \"alias\"])\n",
    "\n",
    "def test_imports_list(code):\n",
    "    testImports=[]\n",
    "    def get_imports(code):\n",
    "        with open(code) as fh:        \n",
    "           root = ast.parse(fh.read(), code)\n",
    "    \n",
    "        for node in ast.iter_child_nodes(root):\n",
    "            if isinstance(node, ast.Import):\n",
    "                module = []\n",
    "            elif isinstance(node, ast.ImportFrom):\n",
    "                if node.module is not None:\n",
    "                    module = node.module.split('.')\n",
    "            else:\n",
    "                continue\n",
    "    \n",
    "            for n in node.names:\n",
    "                yield Import(module, n.name.split('.'), n.asname)\n",
    "\n",
    "    for i in get_imports(code):\n",
    "        for name in i.name:\n",
    "            if \"test\" in name and name not in testImports:\n",
    "                testImports.append(name)\n",
    "        for module in i.module:\n",
    "            if \"test\" in module and module not in testImports:\n",
    "                testImports.append(module)\n",
    "    return testImports\n",
    "\n"
   ]
  },
  {
   "cell_type": "code",
   "execution_count": 29,
   "id": "292da82a-3eb7-43c7-920d-2c448ed30627",
   "metadata": {},
   "outputs": [
    {
     "data": {
      "text/plain": [
       "['unittest', 'pytest', 'tests']"
      ]
     },
     "execution_count": 29,
     "metadata": {},
     "output_type": "execute_result"
    }
   ],
   "source": [
    "test_imports_list(pjoin(test_components_dir,\"acmeda\",\"test_config_flow.py\"))"
   ]
  },
  {
   "cell_type": "code",
   "execution_count": 30,
   "id": "ac1906aa-22dc-41bc-87f0-4f760f138e4d",
   "metadata": {},
   "outputs": [],
   "source": [
    "def get_project_imports(project_folder):\n",
    "    totalImports=[]\n",
    "    for root,dir,files in os.walk(project_folder):\n",
    "        for file in files:\n",
    "            if file.endswith(\".py\"):\n",
    "                testImports=test_imports_list(pjoin(root,file))\n",
    "                for ti in testImports:\n",
    "                    if ti not in totalImports: totalImports.append(ti)\n",
    "    return totalImports\n",
    "                "
   ]
  },
  {
   "cell_type": "code",
   "execution_count": 31,
   "id": "e3bc794c-ab6e-4f26-8df7-1e1962dadff9",
   "metadata": {},
   "outputs": [],
   "source": [
    "def get_filelist_imports(filelist):\n",
    "    totalImports=[]\n",
    "    for file in filelist:\n",
    "        if file.endswith(\".py\"):\n",
    "            testImports=test_imports_list(pjoin(file))\n",
    "            for ti in testImports:\n",
    "                if ti not in totalImports: totalImports.append(ti)\n",
    "    return totalImports"
   ]
  },
  {
   "cell_type": "code",
   "execution_count": 32,
   "id": "b631561a-cac0-4e30-b3b8-3a1614decf44",
   "metadata": {},
   "outputs": [
    {
     "name": "stderr",
     "output_type": "stream",
     "text": [
      "100%|██████████████████████████████████████| 1158/1158 [00:02<00:00, 467.78it/s]\n"
     ]
    }
   ],
   "source": [
    "testCodeDF=pd.DataFrame([],columns=[\"app\",\"test_code_exists\",\"test_code%\",\"python_test_imports\"])\n",
    "for app in tqdm(apps):\n",
    "    if not os.path.exists(pjoin(test_components_dir,app)):\n",
    "        testCodeDF.loc[len(testCodeDF)]=[app,\"False\",\"N/A\",\"N/A\"]\n",
    "    else:\n",
    "        codeFolder=pjoin(components_dir,app)\n",
    "        testCodeFolder=pjoin(test_components_dir,app)\n",
    "        matchedTests,codeFiles, testCodeFiles=testCodeAnalysis(codeFolder, testCodeFolder)\n",
    "        tcPerc=round(len(matchedTests)/len(codeFiles)*100,1)\n",
    "        \n",
    "        testCodeFiles= [t[1] for t in matchedTests]\n",
    "        totalImports=get_filelist_imports(testCodeFiles)\n",
    "        totalImportsString=\", \".join(totalImports)\n",
    "        testCodeDF.loc[len(testCodeDF)]=[app,\"True\",tcPerc,totalImportsString]\n",
    "            \n",
    "#Add code for calculating local imports\n",
    "localImports=get_project_imports(\"test_local_imports\")\n",
    "localImportsString=\", \".join(localImports)\n",
    "testCodeDF.loc[len(testCodeDF)]=[\"local_imports\",\"True\",\"N/A\",localImportsString]"
   ]
  },
  {
   "cell_type": "code",
   "execution_count": 33,
   "id": "757e81a2-3f28-430a-9e10-efb227c88c05",
   "metadata": {},
   "outputs": [
    {
     "data": {
      "text/plain": [
       "1158"
      ]
     },
     "execution_count": 33,
     "metadata": {},
     "output_type": "execute_result"
    }
   ],
   "source": [
    "len(apps)"
   ]
  },
  {
   "cell_type": "code",
   "execution_count": 34,
   "id": "8761ac20-2b01-4ed9-ab0c-305d03ca8a74",
   "metadata": {},
   "outputs": [
    {
     "data": {
      "text/plain": [
       "791"
      ]
     },
     "execution_count": 34,
     "metadata": {},
     "output_type": "execute_result"
    }
   ],
   "source": [
    "len(test_apps)"
   ]
  },
  {
   "cell_type": "code",
   "execution_count": 35,
   "id": "7b07a18e-c63b-49a4-8e49-eef8ccaec270",
   "metadata": {},
   "outputs": [
    {
     "data": {
      "text/plain": [
       "1159"
      ]
     },
     "execution_count": 35,
     "metadata": {},
     "output_type": "execute_result"
    }
   ],
   "source": [
    "len(testCodeDF)"
   ]
  },
  {
   "cell_type": "code",
   "execution_count": 36,
   "id": "fbd8a8be-9e43-49d3-9ea2-b85951474b8d",
   "metadata": {},
   "outputs": [],
   "source": [
    "testCodeDF.to_csv(\"test_analysis.csv\")"
   ]
  },
  {
   "cell_type": "code",
   "execution_count": 37,
   "id": "7d22b48a-d5d0-4276-bd79-f3bc0d0b98da",
   "metadata": {},
   "outputs": [],
   "source": [
    "importDict={}\n",
    "allTestImports=testCodeDF[\"python_test_imports\"].tolist()\n",
    "for impString in allTestImports:\n",
    "    imps=[imp.strip() for imp in impString.split(\",\")]\n",
    "    for imp in imps:\n",
    "        if imp==\"\":\n",
    "            continue\n",
    "        try:\n",
    "            importDict[imp]+=1\n",
    "        except:\n",
    "            importDict[imp]=1\n",
    "        "
   ]
  },
  {
   "cell_type": "code",
   "execution_count": 38,
   "id": "c6308c45-c8bc-402a-b343-4ce015546a29",
   "metadata": {},
   "outputs": [
    {
     "data": {
      "text/plain": [
       "{'unittest': 629,\n",
       " 'tests': 626,\n",
       " 'pytest': 471,\n",
       " 'N/A': 368,\n",
       " 'test_util': 77,\n",
       " 'conftest': 65,\n",
       " 'pytest_unordered': 39,\n",
       " 'test_utils': 4,\n",
       " 'test_common': 4,\n",
       " 'get_test_home_assistant': 3,\n",
       " 'async_test_home_assistant': 3,\n",
       " 'test_init': 3,\n",
       " 'test_media_player': 2,\n",
       " 'testing_config': 2,\n",
       " 'test': 2,\n",
       " 'register_test_entity': 2,\n",
       " 'help_test_availability_when_connection_lost': 2,\n",
       " 'help_test_discovery_removal': 2,\n",
       " 'help_test_discovery_update_unchanged': 2,\n",
       " 'help_test_entity_id_update_discovery_update': 2,\n",
       " 'help_test_entity_id_update_subscriptions': 2,\n",
       " 'testing': 2,\n",
       " 'entity_test_helpers': 1,\n",
       " 'test_sensor': 1,\n",
       " 'test_auth_active_with_token': 1,\n",
       " 'test_auth': 1,\n",
       " 'get_test_instance_port': 1,\n",
       " 'create_rfx_test_cfg': 1,\n",
       " 'test_controller': 1,\n",
       " 'help_test_entity_available': 1,\n",
       " '_test_sensors': 1,\n",
       " 'test_gateway': 1,\n",
       " 'create_engine_test': 1,\n",
       " 'create_engine_test_for_schema_version_postfix': 1,\n",
       " 'get_latest_short_term_statistics': 1,\n",
       " 'test_issues': 1,\n",
       " 'test_ll_hls': 1,\n",
       " 'test_hls': 1,\n",
       " 'test_http': 1,\n",
       " 'help_test_availability': 1,\n",
       " 'help_test_availability_discovery_update': 1,\n",
       " 'help_test_availability_poll_state': 1,\n",
       " 'help_test_discovery_device_remove': 1,\n",
       " 'async_manipulate_test_data': 1,\n",
       " 'help_test_availability_without_topic': 1,\n",
       " 'help_test_custom_availability_payload': 1,\n",
       " 'help_test_default_availability_payload': 1,\n",
       " 'help_test_discovery_broken': 1,\n",
       " 'help_test_discovery_update': 1,\n",
       " 'help_test_discovery_update_attr': 1,\n",
       " 'help_test_encoding_subscribable_topics': 1,\n",
       " 'help_test_entity_debug_info_message': 1,\n",
       " 'help_test_entity_device_info_remove': 1,\n",
       " 'help_test_entity_device_info_update': 1,\n",
       " 'help_test_entity_device_info_with_connection': 1,\n",
       " 'help_test_entity_device_info_with_identifier': 1,\n",
       " 'help_test_publishing_with_custom_encoding': 1,\n",
       " 'help_test_reloadable': 1,\n",
       " 'help_test_setting_attribute_via_mqtt_json_message': 1,\n",
       " 'help_test_setting_attribute_with_template': 1,\n",
       " 'help_test_setting_blocked_attribute_via_mqtt_json_message': 1,\n",
       " 'help_test_unique_id': 1,\n",
       " 'help_test_unload_config_entry_with_platform': 1,\n",
       " 'help_test_update_with_json_attrs_bad_json': 1,\n",
       " 'help_test_update_with_json_attrs_not_dict': 1,\n",
       " 'help_test_entity_name': 1,\n",
       " 'help_test_reload_with_config': 1,\n",
       " 'help_test_unload_config_entry': 1,\n",
       " 'help_test_discovery_setup': 1,\n",
       " 'help_test_default_availability_list_payload': 1,\n",
       " 'help_test_default_availability_list_payload_all': 1,\n",
       " 'help_test_default_availability_list_payload_any': 1,\n",
       " 'help_test_default_availability_list_single': 1,\n",
       " 'help_test_discovery_update_availability': 1,\n",
       " 'help_test_entity_category': 1,\n",
       " 'help_test_entity_debug_info': 1,\n",
       " 'help_test_entity_debug_info_remove': 1,\n",
       " 'help_test_entity_debug_info_update_entity_id': 1,\n",
       " 'help_test_entity_disabled_by_default': 1,\n",
       " 'help_test_entity_debug_info_max_messages': 1,\n",
       " 'speedtestdotnet': 1,\n",
       " 'test_config_flow': 1,\n",
       " 'make_jerusalem_test_params': 1,\n",
       " 'make_nyc_test_params': 1,\n",
       " 'test_smart_home': 1,\n",
       " 'add_test_config_entry': 1,\n",
       " 'setup_test_config_entry': 1,\n",
       " 'async_test_rejoin': 1,\n",
       " 'test_data': 1,\n",
       " 'setup_test_accessories': 1,\n",
       " 'setup_test_component': 1,\n",
       " 'run_service_tests': 1,\n",
       " 'pytest_socket': 1,\n",
       " 'get_test_config_dir': 1,\n",
       " 'testutils': 1,\n",
       " 'UnittestLinter': 1,\n",
       " 'unittest_linter': 1}"
      ]
     },
     "execution_count": 38,
     "metadata": {},
     "output_type": "execute_result"
    }
   ],
   "source": [
    "sorted_importDict = dict(sorted(importDict.items(), key=lambda item: item[1],reverse=True))\n",
    "sorted_importDict"
   ]
  },
  {
   "cell_type": "code",
   "execution_count": 42,
   "id": "f252fba6-2a1a-4e56-a269-869f691c81fa",
   "metadata": {},
   "outputs": [],
   "source": [
    "testImportCountDF = pd.DataFrame(list(sorted_importDict.items()), columns=['import', 'count'])\n",
    "testImportCountDF.to_csv(\"test_import_counts.csv\", index=False)"
   ]
  },
  {
   "cell_type": "code",
   "execution_count": null,
   "id": "eaff9499-ccb7-48f3-99d9-c9c3cfe71a32",
   "metadata": {},
   "outputs": [],
   "source": []
  }
 ],
 "metadata": {
  "kernelspec": {
   "display_name": "Python 3 (ipykernel)",
   "language": "python",
   "name": "python3"
  },
  "language_info": {
   "codemirror_mode": {
    "name": "ipython",
    "version": 3
   },
   "file_extension": ".py",
   "mimetype": "text/x-python",
   "name": "python",
   "nbconvert_exporter": "python",
   "pygments_lexer": "ipython3",
   "version": "3.11.3"
  }
 },
 "nbformat": 4,
 "nbformat_minor": 5
}
