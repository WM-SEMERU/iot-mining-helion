{
 "cells": [
  {
   "cell_type": "code",
   "execution_count": null,
   "id": "309aa21c",
   "metadata": {},
   "outputs": [],
   "source": [
    "import os\n",
    "from os.path import join as pjoin\n",
    "import pandas as pd\n",
    "import zipfile\n",
    "import shutil\n",
    "from tqdm import tqdm\n",
    "from shutil import copytree"
   ]
  },
  {
   "cell_type": "code",
   "execution_count": null,
   "id": "a45f0067",
   "metadata": {},
   "outputs": [],
   "source": [
    "#Unzip bundles_java.zip\n",
    "\n",
    "zip_file_path = \"bundles_java.zip\"\n",
    "extraction_directory = \"bundles_java\"\n",
    "\n",
    "if not os.path.exists(extraction_directory):\n",
    "    os.mkdir(extraction_directory)\n",
    "with zipfile.ZipFile(zip_file_path, 'r') as zip_ref:\n",
    "    zip_ref.extractall(extraction_directory)"
   ]
  },
  {
   "cell_type": "code",
   "execution_count": null,
   "id": "e7673f4f",
   "metadata": {},
   "outputs": [],
   "source": [
    "import re\n",
    "def getJavaClassMethodsRE(file_path):\n",
    "    # Count methods\n",
    "    with open(file_path, 'r', encoding=\"utf-8\") as file:\n",
    "        java_code = file.read()\n",
    "    method_pattern = re.compile(r'\\s*(public|private|protected|static|\\s)*[\\w<>,\\[\\]]+\\s+(\\w+)\\s*\\([^)]*\\)\\s*(throws\\s+\\w+(\\s*,\\s*\\w+)*)?\\s*\\{')\n",
    "    methods = method_pattern.findall(java_code)\n",
    "    method_count = len(methods)\n",
    "\n",
    "    # Count classes\n",
    "    class_pattern = re.compile(r'\\s*(public|private|protected|abstract|final|\\s)*(\\bclass\\b|\\binterface\\b|\\benum\\b)\\s+(\\w+)(\\s+extends\\s+\\w+)?(\\s+implements\\s+\\w+(,\\s+\\w+)*)?\\s*\\{')\n",
    "    classes = class_pattern.findall(java_code)\n",
    "    class_count = len(classes)\n",
    "\n",
    "    return method_count, class_count"
   ]
  },
  {
   "cell_type": "code",
   "execution_count": null,
   "id": "68420e66",
   "metadata": {},
   "outputs": [],
   "source": [
    "#Creating a dataframe of [\"bundle\",\"#java files\",\"#classes\",\"#methods\"]\n",
    "bundles=[folder for folder in os.listdir(extraction_directory) if os.path.isdir(pjoin(extraction_directory,folder)) and not folder.startswith(\".\")]\n",
    "bundle_info=pd.DataFrame([],columns=[\"bundle\",\"#java files\",\"#classes\",\"#methods\"])\n",
    "bundle_topFiles={}\n",
    "for bundle in tqdm(bundles):\n",
    "    codeFiles = [file for file in os.listdir(pjoin(extraction_directory,bundle))]\n",
    "    methodCount=0\n",
    "    classCount=0\n",
    "    file_details={}\n",
    "    for file in codeFiles:\n",
    "        try:\n",
    "            mtds,clss=getJavaClassMethodsRE(pjoin(extraction_directory,bundle,file))\n",
    "            file_details[file]={}\n",
    "        except Exception as e:\n",
    "            print(f\"error for {pjoin(bundle,file)} {e}\")\n",
    "            continue\n",
    "        file_details[file][\"methods\"]=mtds\n",
    "        file_details[file][\"classes\"]=clss\n",
    "    sorted_file_details = dict(sorted(file_details.items(), key=lambda item: (-item[1]['methods'], item[1]['classes'])))\n",
    "    bundle_topFiles[bundle]=list(sorted_file_details)[:10]\n",
    "    methodCount+=mtds\n",
    "    classCount+=clss\n",
    "    bundle_info.loc[len(bundle_info)]=[bundle,len(codeFiles),classCount,methodCount]"
   ]
  },
  {
   "cell_type": "code",
   "execution_count": null,
   "id": "863e0000",
   "metadata": {},
   "outputs": [],
   "source": [
    "#Sorting and exporting dataframe into csv\n",
    "sorted_bundle_info = bundle_info.sort_values(by=['#methods', '#java files'], ascending=[False, False])\n",
    "sorted_bundle_info.to_csv(\"bundle_info.csv\")\n",
    "sorted_bundles=list(sorted_bundle_info[\"bundle\"])\n",
    "for i in range(25):\n",
    "    print(i+1,sorted_bundles[i])"
   ]
  },
  {
   "cell_type": "code",
   "execution_count": null,
   "id": "f197dba7",
   "metadata": {},
   "outputs": [],
   "source": [
    "#Open top10 files of the top25 bundles in notepad++\n",
    "import subprocess\n",
    "import keyboard\n",
    "import pygetwindow as gw\n",
    "import time\n",
    "notepad_plus_plus_path = \"C:\\\\Program Files\\\\Notepad++\\\\notepad++.exe\"\n",
    "for bundle in sorted_bundles[:25]:\n",
    "    file_paths=[pjoin(extraction_directory,bundle,file) for file in bundle_topFiles[bundle]]\n",
    "    \n",
    "    # Construct the command to open files in Notepad++\n",
    "    command = [notepad_plus_plus_path]\n",
    "    command.extend(file_paths)\n",
    "\n",
    "    # Use subprocess to run the command\n",
    "    process = subprocess.Popen(command)\n",
    "    print(bundle)\n",
    "    print(bundle_topFiles[bundle])\n",
    "    print()\n",
    "    # Wait for the 'q' key press\n",
    "    print(\"Press 'q' to close Notepad++ and its tabs.\")\n",
    "    keyboard.wait('q')\n",
    "    print()\n",
    "    # Close all Notepad++ windows\n",
    "    for window in gw.getWindowsWithTitle(\"Notepad++\"):\n",
    "        window.close()\n",
    "\n",
    "    # Wait for the windows to close\n",
    "    time.sleep(2)\n",
    "\n",
    "    # Kill the Notepad++ process\n",
    "    process.kill()"
   ]
  },
  {
   "cell_type": "markdown",
   "id": "c6084b1f",
   "metadata": {},
   "source": [
    "test for loading properties, illegal character handling, parsing different data input combinations, "
   ]
  }
 ],
 "metadata": {
  "kernelspec": {
   "display_name": "Python 3 (ipykernel)",
   "language": "python",
   "name": "python3"
  },
  "language_info": {
   "codemirror_mode": {
    "name": "ipython",
    "version": 3
   },
   "file_extension": ".py",
   "mimetype": "text/x-python",
   "name": "python",
   "nbconvert_exporter": "python",
   "pygments_lexer": "ipython3",
   "version": "3.11.5"
  }
 },
 "nbformat": 4,
 "nbformat_minor": 5
}
