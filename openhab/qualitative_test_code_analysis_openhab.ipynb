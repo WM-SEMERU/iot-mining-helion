{
 "cells": [
  {
   "cell_type": "code",
   "execution_count": null,
   "id": "51baf5f9",
   "metadata": {},
   "outputs": [],
   "source": [
    "import os\n",
    "from os.path import join as pjoin\n",
    "import pandas as pd\n",
    "import zipfile\n",
    "import shutil\n",
    "from tqdm import tqdm\n",
    "from shutil import copytree\n",
    "import numpy as np\n",
    "import re"
   ]
  },
  {
   "cell_type": "code",
   "execution_count": null,
   "id": "d33ae555",
   "metadata": {},
   "outputs": [],
   "source": [
    "#Unzip bundles_java.zip\n",
    "def unzip_bundles(zip_file_path,extraction_directory):\n",
    "    if not os.path.exists(extraction_directory):\n",
    "        os.mkdir(extraction_directory)\n",
    "        with zipfile.ZipFile(zip_file_path, 'r') as zip_ref:\n",
    "            zip_ref.extractall(extraction_directory)\n",
    "    else:\n",
    "        return"
   ]
  },
  {
   "cell_type": "code",
   "execution_count": null,
   "id": "da3ba08a",
   "metadata": {},
   "outputs": [],
   "source": [
    "def getTestMethods(file_path):\n",
    "    java_code= open(file_path,encoding=\"utf-8\")\n",
    "    test_methods=0\n",
    "    for line in java_code.readlines():\n",
    "        if \"@test\" in line.lower():\n",
    "            test_methods+=1\n",
    "\n",
    "    return test_methods"
   ]
  },
  {
   "cell_type": "code",
   "execution_count": null,
   "id": "70469b70",
   "metadata": {},
   "outputs": [],
   "source": [
    "def getJavaClassMethodsRE(file_path):\n",
    "    # Count methods\n",
    "    with open(file_path, 'r', encoding=\"utf-8\") as file:\n",
    "        java_code = file.read()\n",
    "    method_pattern = re.compile(r'\\s*(public|private|protected|static|\\s)*[\\w<>,\\[\\]]+\\s+(\\w+)\\s*\\([^)]*\\)\\s*(throws\\s+\\w+(\\s*,\\s*\\w+)*)?\\s*\\{')\n",
    "    methods = method_pattern.findall(java_code)\n",
    "    method_count = len(methods)\n",
    "\n",
    "    # Count classes\n",
    "    class_pattern = re.compile(r'\\s*(public|private|protected|abstract|final|\\s)*(\\bclass\\b|\\binterface\\b|\\benum\\b)\\s+(\\w+)(\\s+extends\\s+\\w+)?(\\s+implements\\s+\\w+(,\\s+\\w+)*)?\\s*\\{')\n",
    "    classes = class_pattern.findall(java_code)\n",
    "    class_count = len(classes)\n",
    "\n",
    "    return class_count,method_count"
   ]
  },
  {
   "cell_type": "code",
   "execution_count": null,
   "id": "e23da56a",
   "metadata": {},
   "outputs": [],
   "source": [
    "def sorted_bundles_testMethods(main_dir,outputCSV):\n",
    "    bundles=[folder for folder in os.listdir(main_dir) if os.path.isdir(pjoin(main_dir,folder)) and not folder.startswith(\".\")]\n",
    "    bundle_info=pd.DataFrame([],columns=[\"bundle\",\"#java files\",\"#methods\"])\n",
    "    bundle_topFiles={}\n",
    "    for bundle in tqdm(bundles):\n",
    "        codeFiles = [file for file in os.listdir(pjoin(main_dir,bundle))]\n",
    "        methodCount=0\n",
    "        file_details={}\n",
    "        for file in codeFiles:\n",
    "            mtds=getTestMethods(pjoin(main_dir,bundle,file))\n",
    "            file_details[file]={}\n",
    "            file_details[file][\"methods\"]=mtds\n",
    "        sorted_file_details = dict(sorted(file_details.items(), key=lambda item: (-item[1]['methods'])))\n",
    "        bundle_topFiles[bundle]=list(sorted_file_details)[:10]\n",
    "        methodCount+=sum([sorted_file_details[file][\"methods\"] for file in sorted_file_details])\n",
    "        bundle_info.loc[len(bundle_info)]=[bundle,len(codeFiles),methodCount]\n",
    "\n",
    "    #Sorting and exporting dataframe into csv\n",
    "    sorted_bundle_info = bundle_info.sort_values(by='#methods', ascending=[False])\n",
    "    sorted_bundle_info.to_csv(outputCSV)\n",
    "    return sorted_bundle_info,bundle_topFiles"
   ]
  },
  {
   "cell_type": "code",
   "execution_count": null,
   "id": "afe57d0d",
   "metadata": {},
   "outputs": [],
   "source": [
    "def sorted_bundles_method_class(main_dir,outputCSV):\n",
    "    bundles=[folder for folder in os.listdir(main_dir) if os.path.isdir(pjoin(main_dir,folder)) and not folder.startswith(\".\")]\n",
    "    bundle_info=pd.DataFrame([],columns=[\"bundle\",\"#java files\",\"#classes\",\"#methods\"])\n",
    "    bundle_topFiles={}\n",
    "    for bundle in tqdm(bundles):\n",
    "        codeFiles = [file for file in os.listdir(pjoin(main_dir,bundle))]\n",
    "        methodCount=0\n",
    "        classCount=0\n",
    "        file_details={}\n",
    "        for file in codeFiles:\n",
    "            classes,mtds=getJavaClassMethodsRE(pjoin(main_dir,bundle,file))\n",
    "            file_details[file]={}\n",
    "            file_details[file][\"classes\"]=classes\n",
    "            file_details[file][\"methods\"]=mtds\n",
    "        sorted_file_details = dict(sorted(file_details.items(), key=lambda item: (-item[1]['methods'], item[1]['classes'])))\n",
    "        bundle_topFiles[bundle]=list(sorted_file_details)[:10]\n",
    "        methodCount+=sum([sorted_file_details[file][\"methods\"] for file in sorted_file_details])\n",
    "        classCount+=sum([sorted_file_details[file][\"classes\"] for file in sorted_file_details])\n",
    "        bundle_info.loc[len(bundle_info)]=[bundle,len(codeFiles),classCount,methodCount]\n",
    "\n",
    "    #Sorting and exporting dataframe into csv\n",
    "    sorted_bundle_info = bundle_info.sort_values(by=['#methods',\"#classes\"], ascending=[False,False])\n",
    "    sorted_bundle_info.to_csv(outputCSV)\n",
    "    return sorted_bundle_info,bundle_topFiles"
   ]
  },
  {
   "cell_type": "code",
   "execution_count": null,
   "id": "3b7cbd21",
   "metadata": {},
   "outputs": [],
   "source": [
    "zip_file = \"bundles_java.zip\"\n",
    "directory = \"bundles_java\"\n",
    "unzip_bundles(zip_file,directory)"
   ]
  },
  {
   "cell_type": "code",
   "execution_count": null,
   "id": "355e348f",
   "metadata": {},
   "outputs": [],
   "source": [
    "bundles_sorted_method_class_df,bundle_topFiles_mc=sorted_bundles_method_class(directory,\"sorted_bundles_method_class.csv\")"
   ]
  },
  {
   "cell_type": "code",
   "execution_count": null,
   "id": "732c748e",
   "metadata": {},
   "outputs": [],
   "source": [
    "bundles_sorted_testMethods_df,bundle_topFiles_tm=sorted_bundles_testMethods(directory,\"sorted_bundles_testMethods.csv\")"
   ]
  },
  {
   "cell_type": "code",
   "execution_count": null,
   "id": "4967a7e1",
   "metadata": {},
   "outputs": [],
   "source": [
    "# daniel_bundles=[\"mielecloud\",\"rfxcom\",\"lcn\",\"loxone\",\"modbus\",\"livisismarthome\",\"boschshc\",\"mqtt\",\"hue\",\"dynamodb\",\n",
    "# \"enigma2\",\"nest\",\"bluetooth\",\"onewire\",\"dmx\",\"tplinksmarthome\",\"hueemulation\",\"astro\",\"deutschebahn\",\n",
    "# \"avmfritz\",\"systeminfo\",\"yamahareceiver\",\"digitalstrom\",\"upnpcontrol\",\"wemo\"]"
   ]
  },
  {
   "cell_type": "code",
   "execution_count": null,
   "id": "bc86b7de",
   "metadata": {},
   "outputs": [],
   "source": [
    "# prev_list=[\"systeminfo\",\"webthing\",\"jdbc\",\"nest\",\"feed\",\"ephemeris\",\"lcn\",\n",
    "# \"digitalstrom\",\"omnikinverter\",\"mqtt\",\"sensorcommunity\",\"icloud\",\n",
    "# \"velux\",\"dbquery\",\"pushover\",\"io\"]"
   ]
  },
  {
   "cell_type": "code",
   "execution_count": null,
   "id": "c283b398",
   "metadata": {},
   "outputs": [],
   "source": [
    "top25_method_class=list(bundles_sorted_method_class_df[\"bundle\"])[:25]\n",
    "top25_testMethods=list(bundles_sorted_testMethods_df[\"bundle\"])[:25]\n",
    "\n",
    "# # daniel_vs_method_class= list(np.intersect1d(daniel_bundles,top25_method_class))\n",
    "# # daniel_vs_testMethods= list(np.intersect1d(daniel_bundles,top25_testMethods))\n",
    "# # method_class_vs_testMethods=list(np.intersect1d(top25_method_class, top25_testMethods))\n",
    "\n",
    "# prev_vs_method_class=list(np.intersect1d(prev_list,top25_method_class))\n",
    "\n",
    "\n",
    "# # print(\"Intersections\")\n",
    "# # print(\"Between daniel and method_class: \",len(daniel_vs_method_class),end=\"\\t\")\n",
    "# # print(daniel_vs_method_class)\n",
    "\n",
    "# # print(\"Between daniel and testMethods: \",len(daniel_vs_testMethods),end=\"\\t\")\n",
    "# # print(daniel_vs_testMethods)\n",
    "\n",
    "# # print(\"Between method_class and testMethods: \",len(method_class_vs_testMethods),end=\"\\t\")\n",
    "# # print(method_class_vs_testMethods)\n",
    "\n",
    "# print(\"Between previous list vs method_class: \",len(prev_vs_method_class),end=\"\\t\")\n",
    "# print(prev_vs_method_class)\n"
   ]
  },
  {
   "cell_type": "code",
   "execution_count": null,
   "id": "d56582e0",
   "metadata": {},
   "outputs": [],
   "source": [
    "#Open top10 files of the top25 bundles in notepad++\n",
    "import subprocess\n",
    "import keyboard\n",
    "import pygetwindow as gw\n",
    "import time\n",
    "notepad_plus_plus_path = \"C:\\\\Program Files\\\\Notepad++\\\\notepad++.exe\"\n",
    "for bundle in top25_method_class:\n",
    "    file_paths=[pjoin(directory,bundle,file) for file in bundle_topFiles_mc[bundle]]\n",
    "    \n",
    "    # Construct the command to open files in Notepad++\n",
    "    command = [notepad_plus_plus_path]\n",
    "    command.extend(file_paths)\n",
    "\n",
    "    # Use subprocess to run the command\n",
    "    process = subprocess.Popen(command)\n",
    "    print(bundle)\n",
    "    print(bundle_topFiles_mc[bundle])\n",
    "    print()\n",
    "    # Wait for the 'q' key press\n",
    "    print(\"Press 'q' to close Notepad++ and its tabs.\")\n",
    "    keyboard.wait('q')\n",
    "    print()\n",
    "    # Close all Notepad++ windows\n",
    "    for window in gw.getWindowsWithTitle(\"Notepad++\"):\n",
    "        window.close()\n",
    "\n",
    "    # Wait for the windows to close\n",
    "    time.sleep(2)\n",
    "\n",
    "    # Kill the Notepad++ process\n",
    "    process.kill()"
   ]
  }
 ],
 "metadata": {
  "kernelspec": {
   "display_name": "Python 3 (ipykernel)",
   "language": "python",
   "name": "python3"
  },
  "language_info": {
   "codemirror_mode": {
    "name": "ipython",
    "version": 3
   },
   "file_extension": ".py",
   "mimetype": "text/x-python",
   "name": "python",
   "nbconvert_exporter": "python",
   "pygments_lexer": "ipython3",
   "version": "3.11.5"
  }
 },
 "nbformat": 4,
 "nbformat_minor": 5
}
