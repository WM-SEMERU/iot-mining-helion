{
 "cells": [
  {
   "cell_type": "code",
   "execution_count": 1,
   "id": "51baf5f9",
   "metadata": {},
   "outputs": [],
   "source": [
    "import os\n",
    "from os.path import join as pjoin\n",
    "import pandas as pd\n",
    "import zipfile\n",
    "import shutil\n",
    "from tqdm import tqdm\n",
    "from shutil import copytree\n",
    "import numpy as np\n",
    "import re"
   ]
  },
  {
   "cell_type": "code",
   "execution_count": 2,
   "id": "d33ae555",
   "metadata": {},
   "outputs": [],
   "source": [
    "#Unzip bundles_java.zip\n",
    "def unzip_bundles(zip_file_path,extraction_directory):\n",
    "    if not os.path.exists(extraction_directory):\n",
    "        os.mkdir(extraction_directory)\n",
    "        with zipfile.ZipFile(zip_file_path, 'r') as zip_ref:\n",
    "            zip_ref.extractall(extraction_directory)\n",
    "    else:\n",
    "        return"
   ]
  },
  {
   "cell_type": "code",
   "execution_count": 3,
   "id": "da3ba08a",
   "metadata": {},
   "outputs": [],
   "source": [
    "def getTestMethods(file_path):\n",
    "    java_code= open(file_path,encoding=\"utf-8\")\n",
    "    test_methods=0\n",
    "    for line in java_code.readlines():\n",
    "        if \"@test\" in line.lower():\n",
    "            test_methods+=1\n",
    "\n",
    "    return test_methods"
   ]
  },
  {
   "cell_type": "code",
   "execution_count": 4,
   "id": "70469b70",
   "metadata": {},
   "outputs": [],
   "source": [
    "def getJavaClassMethodsRE(file_path):\n",
    "    # Count methods\n",
    "    with open(file_path, 'r', encoding=\"utf-8\") as file:\n",
    "        java_code = file.read()\n",
    "    method_pattern = re.compile(r'\\s*(public|private|protected|static|\\s)*[\\w<>,\\[\\]]+\\s+(\\w+)\\s*\\([^)]*\\)\\s*(throws\\s+\\w+(\\s*,\\s*\\w+)*)?\\s*\\{')\n",
    "    methods = method_pattern.findall(java_code)\n",
    "    method_count = len(methods)\n",
    "\n",
    "    # Count classes\n",
    "    class_pattern = re.compile(r'\\s*(public|private|protected|abstract|final|\\s)*(\\bclass\\b|\\binterface\\b|\\benum\\b)\\s+(\\w+)(\\s+extends\\s+\\w+)?(\\s+implements\\s+\\w+(,\\s+\\w+)*)?\\s*\\{')\n",
    "    classes = class_pattern.findall(java_code)\n",
    "    class_count = len(classes)\n",
    "\n",
    "    return class_count,method_count"
   ]
  },
  {
   "cell_type": "code",
   "execution_count": 5,
   "id": "e23da56a",
   "metadata": {},
   "outputs": [],
   "source": [
    "def sorted_bundles_testMethods(main_dir,outputCSV):\n",
    "    bundles=[folder for folder in os.listdir(main_dir) if os.path.isdir(pjoin(main_dir,folder)) and not folder.startswith(\".\")]\n",
    "    bundle_info=pd.DataFrame([],columns=[\"bundle\",\"#java files\",\"#methods\"])\n",
    "    for bundle in tqdm(bundles):\n",
    "        codeFiles = [file for file in os.listdir(pjoin(main_dir,bundle))]\n",
    "        methodCount=0\n",
    "        file_details={}\n",
    "        for file in codeFiles:\n",
    "            mtds=getTestMethods(pjoin(main_dir,bundle,file))\n",
    "            file_details[file]={}\n",
    "            file_details[file][\"methods\"]=mtds\n",
    "        sorted_file_details = dict(sorted(file_details.items(), key=lambda item: (-item[1]['methods'])))\n",
    "\n",
    "        methodCount+=sum([sorted_file_details[file][\"methods\"] for file in sorted_file_details])\n",
    "        bundle_info.loc[len(bundle_info)]=[bundle,len(codeFiles),methodCount]\n",
    "\n",
    "    #Sorting and exporting dataframe into csv\n",
    "    sorted_bundle_info = bundle_info.sort_values(by='#methods', ascending=[False])\n",
    "    sorted_bundle_info.to_csv(outputCSV)\n",
    "    return sorted_bundle_info"
   ]
  },
  {
   "cell_type": "code",
   "execution_count": 6,
   "id": "afe57d0d",
   "metadata": {},
   "outputs": [],
   "source": [
    "def sorted_bundles_method_class(main_dir,outputCSV):\n",
    "    bundles=[folder for folder in os.listdir(main_dir) if os.path.isdir(pjoin(main_dir,folder)) and not folder.startswith(\".\")]\n",
    "    bundle_info=pd.DataFrame([],columns=[\"bundle\",\"#java files\",\"#classes\",\"#methods\"])\n",
    "    for bundle in tqdm(bundles):\n",
    "        codeFiles = [file for file in os.listdir(pjoin(main_dir,bundle))]\n",
    "        methodCount=0\n",
    "        classCount=0\n",
    "        file_details={}\n",
    "        for file in codeFiles:\n",
    "            classes,mtds=getJavaClassMethodsRE(pjoin(main_dir,bundle,file))\n",
    "            file_details[file]={}\n",
    "            file_details[file][\"classes\"]=classes\n",
    "            file_details[file][\"methods\"]=mtds\n",
    "        sorted_file_details = dict(sorted(file_details.items(), key=lambda item: (-item[1]['methods'], item[1]['classes'])))\n",
    "\n",
    "        methodCount+=sum([sorted_file_details[file][\"methods\"] for file in sorted_file_details])\n",
    "        classCount+=sum([sorted_file_details[file][\"classes\"] for file in sorted_file_details])\n",
    "        bundle_info.loc[len(bundle_info)]=[bundle,len(codeFiles),classCount,methodCount]\n",
    "\n",
    "    #Sorting and exporting dataframe into csv\n",
    "    sorted_bundle_info = bundle_info.sort_values(by=['#methods',\"#classes\"], ascending=[False,False])\n",
    "    sorted_bundle_info.to_csv(outputCSV)\n",
    "    return sorted_bundle_info"
   ]
  },
  {
   "cell_type": "code",
   "execution_count": null,
   "id": "e15ab968",
   "metadata": {},
   "outputs": [],
   "source": [
    "getJavaClassMethodsRE(pjoin(\"bundles_java\",\"thing\"))"
   ]
  },
  {
   "cell_type": "code",
   "execution_count": 7,
   "id": "3b7cbd21",
   "metadata": {},
   "outputs": [],
   "source": [
    "zip_file = \"bundles_java.zip\"\n",
    "directory = \"bundles_java\"\n",
    "unzip_bundles(zip_file,directory)"
   ]
  },
  {
   "cell_type": "code",
   "execution_count": 8,
   "id": "355e348f",
   "metadata": {},
   "outputs": [
    {
     "name": "stderr",
     "output_type": "stream",
     "text": [
      "100%|██████████| 181/181 [00:17<00:00, 10.19it/s]\n"
     ]
    }
   ],
   "source": [
    "bundles_sorted_method_class_df=sorted_bundles_method_class(directory,\"sorted_bundles_method_class.csv\")"
   ]
  },
  {
   "cell_type": "code",
   "execution_count": 9,
   "id": "732c748e",
   "metadata": {},
   "outputs": [
    {
     "name": "stderr",
     "output_type": "stream",
     "text": [
      "100%|██████████| 181/181 [00:00<00:00, 194.54it/s]\n"
     ]
    }
   ],
   "source": [
    "bundles_sorted_testMethods_df=sorted_bundles_testMethods(directory,\"sorted_bundles_testMethods.csv\")"
   ]
  },
  {
   "cell_type": "code",
   "execution_count": 10,
   "id": "4967a7e1",
   "metadata": {},
   "outputs": [],
   "source": [
    "daniel_bundles=[\"mielecloud\",\"rfxcom\",\"lcn\",\"loxone\",\"modbus\",\"livisismarthome\",\"boschshc\",\"mqtt\",\"hue\",\"dynamodb\",\n",
    "\"enigma2\",\"nest\",\"bluetooth\",\"onewire\",\"dmx\",\"tplinksmarthome\",\"hueemulation\",\"astro\",\"deutschebahn\",\n",
    "\"avmfritz\",\"systeminfo\",\"yamahareceiver\",\"digitalstrom\",\"upnpcontrol\",\"wemo\"]"
   ]
  },
  {
   "cell_type": "code",
   "execution_count": 11,
   "id": "c283b398",
   "metadata": {},
   "outputs": [
    {
     "name": "stdout",
     "output_type": "stream",
     "text": [
      "Intersections\n",
      "Between daniel and method_class:  13\t['bluetooth', 'boschshc', 'dynamodb', 'hue', 'hueemulation', 'lcn', 'livisismarthome', 'loxone', 'mielecloud', 'modbus', 'mqtt', 'nest', 'rfxcom']\n",
      "Between daniel and testMethods:  11\t['bluetooth', 'boschshc', 'enigma2', 'hue', 'lcn', 'livisismarthome', 'loxone', 'mielecloud', 'modbus', 'mqtt', 'rfxcom']\n",
      "Between method_class and testMethods:  20\t['analysis', 'automation', 'bluetooth', 'boschshc', 'config', 'hue', 'internal', 'io', 'items', 'lcn', 'library', 'livisismarthome', 'loxone', 'mielecloud', 'modbus', 'model', 'mqtt', 'protocol', 'rfxcom', 'thing']\n"
     ]
    }
   ],
   "source": [
    "top25_method_class=list(bundles_sorted_method_class_df[\"bundle\"])[:25]\n",
    "top25_testMethods=list(bundles_sorted_testMethods_df[\"bundle\"])[:25]\n",
    "\n",
    "daniel_vs_method_class= list(np.intersect1d(daniel_bundles,top25_method_class))\n",
    "daniel_vs_testMethods= list(np.intersect1d(daniel_bundles,top25_testMethods))\n",
    "method_class_vs_testMethods=list(np.intersect1d(top25_method_class, top25_testMethods))\n",
    "\n",
    "print(\"Intersections\")\n",
    "print(\"Between daniel and method_class: \",len(daniel_vs_method_class),end=\"\\t\")\n",
    "print(daniel_vs_method_class)\n",
    "\n",
    "print(\"Between daniel and testMethods: \",len(daniel_vs_testMethods),end=\"\\t\")\n",
    "print(daniel_vs_testMethods)\n",
    "\n",
    "print(\"Between method_class and testMethods: \",len(method_class_vs_testMethods),end=\"\\t\")\n",
    "print(method_class_vs_testMethods)"
   ]
  },
  {
   "cell_type": "code",
   "execution_count": null,
   "id": "fb0c235f",
   "metadata": {},
   "outputs": [],
   "source": [
    "prev_list[\"systeminfo\"\n",
    "\"webthing\"\n",
    "\"jdbc\"\n",
    "\"nest\"\n",
    "\"feed\"\n",
    "\"ephemeris\"\n",
    "\"lcn\"\n",
    "\"digitalstrom\"\n",
    "\"omnikinverter\"\n",
    "\"mqtt\"\n",
    "\"sensorcommunity\"\n",
    "\"icloud\"\n",
    "\"velux\"\n",
    "\"dbquery\"\n",
    "\"pushover\"\n",
    "\"io\"]"
   ]
  }
 ],
 "metadata": {
  "kernelspec": {
   "display_name": "Python 3 (ipykernel)",
   "language": "python",
   "name": "python3"
  },
  "language_info": {
   "codemirror_mode": {
    "name": "ipython",
    "version": 3
   },
   "file_extension": ".py",
   "mimetype": "text/x-python",
   "name": "python",
   "nbconvert_exporter": "python",
   "pygments_lexer": "ipython3",
   "version": "3.11.5"
  }
 },
 "nbformat": 4,
 "nbformat_minor": 5
}
