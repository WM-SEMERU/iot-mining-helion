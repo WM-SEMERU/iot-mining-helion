{
 "cells": [
  {
   "attachments": {},
   "cell_type": "markdown",
   "metadata": {},
   "source": [
    "# Test inspection for openhub repositories"
   ]
  },
  {
   "attachments": {},
   "cell_type": "markdown",
   "metadata": {},
   "source": [
    "This notebook is focused on extracting test cases from the multiple repositories for OpenHub  in GitHub in order to analysise the kind of test developers applied. We can also classify those test by groupping them according to the intention."
   ]
  },
  {
   "cell_type": "code",
   "execution_count": 8,
   "metadata": {},
   "outputs": [],
   "source": [
    "import os\n",
    "from os.path import join as pjoin\n",
    "import ast\n",
    "import pandas as pd\n",
    "from collections import defaultdict   \n"
   ]
  },
  {
   "cell_type": "code",
   "execution_count": 6,
   "metadata": {},
   "outputs": [],
   "source": [
    "components_dir=\"../repos/\"\n",
    "components=[app for app in os.listdir(components_dir) if \".\" not in app]"
   ]
  },
  {
   "cell_type": "code",
   "execution_count": 7,
   "metadata": {},
   "outputs": [
    {
     "data": {
      "text/plain": [
       "['openhab1-addons',\n",
       " 'openhab-util',\n",
       " 'openhab-core',\n",
       " 'openhab-syno-spk',\n",
       " 'openhab-alexa',\n",
       " 'openhab-docs',\n",
       " 'quercus-osgi',\n",
       " 'openhab-linuxpkg',\n",
       " 'openhab-docker',\n",
       " 'openhab-snap',\n",
       " 'openhab-deps-repo',\n",
       " 'openhab-windows',\n",
       " 'openhab-pebble',\n",
       " 'nrjavaserial',\n",
       " 'openhab-bundles',\n",
       " 'openhab-qnap-qpkg',\n",
       " 'openhabian',\n",
       " 'static-code-analysis',\n",
       " 'openhab-cloud',\n",
       " 'openhab-ios',\n",
       " 'openhab-distro',\n",
       " 'openhab-android',\n",
       " 'openhab-addons']"
      ]
     },
     "execution_count": 7,
     "metadata": {},
     "output_type": "execute_result"
    }
   ],
   "source": [
    "components"
   ]
  },
  {
   "cell_type": "code",
   "execution_count": 5,
   "metadata": {},
   "outputs": [],
   "source": [
    "def count_methods_classes_lines(file_path):\n",
    "    with open(file_path, 'r') as file:\n",
    "        code = file.read()\n",
    "\n",
    "    tree = ast.parse(code)\n",
    "\n",
    "    # Initialize counters\n",
    "    num_methods = 0\n",
    "    num_classes = 0\n",
    "    num_lines = len(code.splitlines())\n",
    "\n",
    "    for node in ast.walk(tree):\n",
    "        if isinstance(node, ast.FunctionDef):\n",
    "            num_methods += 1\n",
    "        elif isinstance(node, ast.ClassDef):\n",
    "            num_classes += 1\n",
    "\n",
    "    return num_methods, num_classes, num_lines"
   ]
  },
  {
   "cell_type": "code",
   "execution_count": null,
   "metadata": {},
   "outputs": [],
   "source": [
    "def countDict(input_list):\n",
    "    # Create a defaultdict to count occurrences of each element\n",
    "    count_dict = defaultdict(int)\n",
    "    \n",
    "    # Count occurrences of each element in the list\n",
    "    for item in input_list:\n",
    "        count_dict[item] += 1\n",
    "    \n",
    "    # Convert defaultdict to a regular dictionary\n",
    "    result_dict = dict(count_dict)\n",
    "    sorted_dict = {k: v for k, v in sorted(result_dict.items(), key=lambda item: item[1],reverse=True)}\n",
    "\n",
    "    return sorted_dict"
   ]
  },
  {
   "cell_type": "code",
   "execution_count": null,
   "metadata": {},
   "outputs": [],
   "source": [
    "language_extensions = ['.java', '.py', '.js', '.rb']\n"
   ]
  },
  {
   "cell_type": "code",
   "execution_count": null,
   "metadata": {},
   "outputs": [],
   "source": [
    "def testCodeAnalysis(codeFolder):\n",
    "    codeFiles=[]\n",
    "    testCodeFiles=[]\n",
    "\n",
    "    for root,dir,files in os.walk(codeFolder):\n",
    "        for file in files:\n",
    "            file_extension = file[1]\n",
    "            if file_extension in language_extensions:\n",
    "                if 'test' in file_extension:\n",
    "                    testCodeFiles.append((root,file))\n",
    "                else:\n",
    "                    \n",
    "                    codeFiles.append((root,file))\n",
    "\n",
    "\n",
    "    matchedTests=[]\n",
    "    for cRoot,cfile in codeFiles:\n",
    "        for tRoot, tfile in testCodeFiles:\n",
    "            if cfile in tfile and \"test\" in tfile:\n",
    "                matchedTests.append((pjoin(cRoot,cfile),pjoin(tRoot,tfile)))\n",
    "                break\n",
    "            \n",
    "    return matchedTests,codeFiles, testCodeFiles"
   ]
  },
  {
   "cell_type": "code",
   "execution_count": null,
   "metadata": {},
   "outputs": [],
   "source": [
    "testCodeDF=pd.DataFrame([],columns=[\"app\",\"test_code_exists\",\"test_code%\",\"python_test_imports\"])\n",
    "for app in tqdm(apps):\n",
    "    if not os.path.exists(pjoin(test_components_dir,app)):\n",
    "        testCodeDF.loc[len(testCodeDF)]=[app,\"False\",\"N/A\",\"N/A\"]\n",
    "    else:\n",
    "        codeFolder=pjoin(components_dir,app)\n",
    "        testCodeFolder=pjoin(test_components_dir,app)\n",
    "        matchedTests,codeFiles, testCodeFiles=testCodeAnalysis(codeFolder, testCodeFolder)\n",
    "        tcPerc=round(len(matchedTests)/len(codeFiles)*100,1)\n",
    "        \n",
    "        testCodeFiles= [t[1] for t in matchedTests]\n",
    "        totalImports=get_filelist_imports(testCodeFiles)\n",
    "        totalImportsString=\", \".join(totalImports)\n",
    "        testCodeDF.loc[len(testCodeDF)]=[app,\"True\",tcPerc,totalImportsString]\n",
    "            \n",
    "#Add code for calculating local imports\n",
    "localImports=get_project_imports(\"test_local_imports\")\n",
    "localImportsString=\", \".join(localImports)\n",
    "testCodeDF.loc[len(testCodeDF)]=[\"local_imports\",\"True\",\"N/A\",localImportsString]"
   ]
  },
  {
   "cell_type": "code",
   "execution_count": null,
   "metadata": {},
   "outputs": [],
   "source": [
    "importDict={}\n",
    "allTestImports=testCodeDF[\"python_test_imports\"].tolist()\n",
    "for impString in allTestImports:\n",
    "    imps=[imp.strip() for imp in impString.split(\",\")]\n",
    "    for imp in imps:\n",
    "        if imp==\"\":\n",
    "            continue\n",
    "        try:\n",
    "            importDict[imp]+=1\n",
    "        except:\n",
    "            importDict[imp]=1"
   ]
  },
  {
   "cell_type": "code",
   "execution_count": null,
   "metadata": {},
   "outputs": [],
   "source": [
    "sorted_importDict = dict(sorted(importDict.items(), key=lambda item: item[1],reverse=True))\n",
    "sorted_importDict"
   ]
  }
 ],
 "metadata": {
  "kernelspec": {
   "display_name": ".env",
   "language": "python",
   "name": "python3"
  },
  "language_info": {
   "codemirror_mode": {
    "name": "ipython",
    "version": 3
   },
   "file_extension": ".py",
   "mimetype": "text/x-python",
   "name": "python",
   "nbconvert_exporter": "python",
   "pygments_lexer": "ipython3",
   "version": "3.9.6"
  },
  "orig_nbformat": 4
 },
 "nbformat": 4,
 "nbformat_minor": 2
}
